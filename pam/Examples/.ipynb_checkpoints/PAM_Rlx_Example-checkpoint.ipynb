{
 "cells": [
  {
   "cell_type": "code",
   "execution_count": 3,
   "metadata": {},
   "outputs": [
    {
     "ename": "ImportError",
     "evalue": "attempted relative import with no known parent package",
     "output_type": "error",
     "traceback": [
      "\u001b[0;31m---------------------------------------------------------------------------\u001b[0m",
      "\u001b[0;31mImportError\u001b[0m                               Traceback (most recent call last)",
      "\u001b[0;32m<ipython-input-3-084dc6d656d2>\u001b[0m in \u001b[0;36m<module>\u001b[0;34m\u001b[0m\n\u001b[1;32m      1\u001b[0m \u001b[0;32mimport\u001b[0m \u001b[0mnumpy\u001b[0m \u001b[0;32mas\u001b[0m \u001b[0mnp\u001b[0m\u001b[0;34m\u001b[0m\u001b[0;34m\u001b[0m\u001b[0m\n\u001b[1;32m      2\u001b[0m \u001b[0;31m# import PAM_config as PAM\u001b[0m\u001b[0;34m\u001b[0m\u001b[0;34m\u001b[0m\u001b[0;34m\u001b[0m\u001b[0m\n\u001b[0;32m----> 3\u001b[0;31m \u001b[0;32mfrom\u001b[0m \u001b[0;34m.\u001b[0m\u001b[0mpam\u001b[0m \u001b[0;32mimport\u001b[0m \u001b[0mPAM_Rlx_op\u001b[0m\u001b[0;34m\u001b[0m\u001b[0;34m\u001b[0m\u001b[0m\n\u001b[0m\u001b[1;32m      4\u001b[0m \u001b[0;32mfrom\u001b[0m \u001b[0mpam\u001b[0m\u001b[0;34m.\u001b[0m\u001b[0mPAM_plot_mag\u001b[0m \u001b[0;32mimport\u001b[0m \u001b[0mPAM_plot_mag\u001b[0m\u001b[0;34m\u001b[0m\u001b[0;34m\u001b[0m\u001b[0m\n\u001b[1;32m      5\u001b[0m \u001b[0;34m\u001b[0m\u001b[0m\n",
      "\u001b[0;31mImportError\u001b[0m: attempted relative import with no known parent package"
     ]
    }
   ],
   "source": [
    "import numpy as np\n",
    "# import PAM_config as PAM\n",
    "from pam import PAM_Rlx_op\n",
    "from pam.PAM_plot_mag import PAM_plot_mag\n",
    "\n",
    "# PAM test of the PAM_Rlx_op function\n",
    "\n",
    "# Independent Variables\n",
    "T1 = 0.10     # [s]\n",
    "T2 = 0.05     # [s]\n",
    "dt = 1e-2     # [s]\n",
    "N_pts = 50.   # [number]\n",
    "M0 = 1.0      # Define the equilibrium magnetization [a.u]\n",
    "dur = N_pts*dt+np.spacing(1)       # Event duration [s]\n",
    "\n",
    "# Dependent variables\n",
    "t_vec = np.arange(0,dur,dt)\n",
    "M_i = np.array([[M0, 0.0, 0.0, 1.0]]) # Define the intial magnetization\n",
    "M = np.zeros((4,len(t_vec)))\n",
    "M[:,0] = M_i;            # Set the initial condition\n",
    "\n",
    "# Define the relaxation operator\n",
    "dRlx_op = PAM_Rlx_op(T1,T2,dt,M0)\n",
    "\n",
    "# Define the relaxation time course\n",
    "t_ind=1\n",
    "for t in np.r_[0:t_vec.size-1]:\n",
    "    M[:,t_ind] = dRlx_op@M[:,t_ind-1]\n",
    "    t_ind += 1\n",
    "\n",
    "# Plot the resulting magnetization\n",
    "H = PAM_plot_mag(t_vec,M)"
   ]
  },
  {
   "cell_type": "code",
   "execution_count": null,
   "metadata": {},
   "outputs": [],
   "source": []
  }
 ],
 "metadata": {
  "kernelspec": {
   "display_name": "Python 3",
   "language": "python",
   "name": "python3"
  },
  "language_info": {
   "codemirror_mode": {
    "name": "ipython",
    "version": 3
   },
   "file_extension": ".py",
   "mimetype": "text/x-python",
   "name": "python",
   "nbconvert_exporter": "python",
   "pygments_lexer": "ipython3",
   "version": "3.7.6"
  }
 },
 "nbformat": 4,
 "nbformat_minor": 2
}
