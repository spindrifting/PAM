{
 "cells": [
  {
   "cell_type": "code",
   "execution_count": null,
   "id": "1cca9bba",
   "metadata": {},
   "outputs": [
    {
     "ename": "NameError",
     "evalue": "name 'PAM_VENC2bipolar' is not defined",
     "output_type": "error",
     "traceback": [
      "\u001b[31m---------------------------------------------------------------------------\u001b[39m",
      "\u001b[31mNameError\u001b[39m                                 Traceback (most recent call last)",
      "\u001b[36mCell\u001b[39m\u001b[36m \u001b[39m\u001b[32mIn[7]\u001b[39m\u001b[32m, line 23\u001b[39m\n\u001b[32m     20\u001b[39m sys[\u001b[33m'\u001b[39m\u001b[33msmax\u001b[39m\u001b[33m'\u001b[39m] = \u001b[32m100\u001b[39m        \u001b[38;5;66;03m# Maximum slewrate [T/m/s]\u001b[39;00m\n\u001b[32m     21\u001b[39m sys[\u001b[33m'\u001b[39m\u001b[33mgamma\u001b[39m\u001b[33m'\u001b[39m] = \u001b[32m42.57e6\u001b[39m   \u001b[38;5;66;03m# Gyromagnetic ratio [Hz/T]\u001b[39;00m\n\u001b[32m---> \u001b[39m\u001b[32m23\u001b[39m ggg = \u001b[43mPAM_VENC2bipolar\u001b[49m(venc, sys)\n\u001b[32m     25\u001b[39m plt.figure()\n\u001b[32m     26\u001b[39m plt.plot(ggg)\n",
      "\u001b[31mNameError\u001b[39m: name 'PAM_VENC2bipolar' is not defined"
     ]
    }
   ],
   "source": [
    "# This script demonstrates the fluctuations in the B0 field owing to gradient imperfects.\n",
    "# The script uses the GIRF response measured and estimated on a Siemens Vida Fit 3T Scanner.\n",
    "#\n",
    "# Author: dbe@stanford.edu\n",
    "# Input: mloecher@stanford.edu\n",
    "#\n",
    "# Orignally written on May 24, 2025\n",
    "\n",
    "import matplotlib.pyplot as plt\n",
    "import numpy as np\n",
    "\n",
    "npz = np.load('./girf_example/example_GIRF.npz')  # Load the example GIRF\n",
    "Hz0 = npz['Hz0']  # GTF z->0\n",
    "Hzz = npz['Hzz']  # GTF z->z\n",
    "\n",
    "# MRI system specs\n",
    "sys = {}  # Initialize an empty dictionary\n",
    "sys['dt'] = 10e-6        # Gradient raster time [s]\n",
    "sys['gmax'] = 35         # Maximum gradient amplitude [mT/m]\n",
    "sys['smax'] = 100        # Maximum slewrate [T/m/s]\n",
    "sys['gamma'] = 42.57e6   # Gyromagnetic ratio [Hz/T]\n",
    "\n",
    "ggg = PAM_VENC2bipolar(venc, sys)\n",
    "\n",
    "plt.figure()\n",
    "plt.plot(ggg)\n",
    "\n",
    "# Make bipolar gradient\n",
    "gg = np.hstack([\n",
    "                np.linspace(0,gmax,int(gmax/smax/dt/1000))[:-1],\n",
    "                np.linspace(gmax,0,int(gmax/smax/dt/1000))[:-1],\n",
    "                np.linspace(0,-gmax,int(gmax/smax/dt/1000))[:-1],\n",
    "                np.linspace(-gmax,0,int(gmax/smax/dt/1000)),\n",
    "                ])\n",
    "\n",
    "# Zeropad after by 10ms\n",
    "N_bipolar = gg.size\n",
    "N_zeropad = int(10e-3/dt)\n",
    "gg = np.hstack([gg, np.zeros(N_zeropad)])\n",
    "\n",
    "plt.figure()\n",
    "plt.plot(gg)\n",
    "\n",
    "\n",
    "\n",
    "#PAM_get_grif_field_response"
   ]
  }
 ],
 "metadata": {
  "kernelspec": {
   "display_name": "Python 3",
   "language": "python",
   "name": "python3"
  },
  "language_info": {
   "codemirror_mode": {
    "name": "ipython",
    "version": 3
   },
   "file_extension": ".py",
   "mimetype": "text/x-python",
   "name": "python",
   "nbconvert_exporter": "python",
   "pygments_lexer": "ipython3",
   "version": "3.12.5"
  }
 },
 "nbformat": 4,
 "nbformat_minor": 5
}
